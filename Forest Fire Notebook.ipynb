{
 "cells": [
  {
   "cell_type": "markdown",
   "id": "dbbe064e",
   "metadata": {},
   "source": [
    "This notebook contains the code for my forest fire prediction regression project. The entire github repository can be found at https://github.com/grahamgreene88/Forest-Fire-Predicition. "
   ]
  },
  {
   "cell_type": "code",
   "execution_count": 1,
   "id": "749c70b7",
   "metadata": {},
   "outputs": [],
   "source": [
    "import pandas as pd\n",
    "import numpy as np\n",
    "import matplotlib.pyplot as plt\n",
    "import seaborn as sns"
   ]
  },
  {
   "cell_type": "markdown",
   "id": "de63a3fd",
   "metadata": {},
   "source": [
    "## Project Objective / Business Relevance"
   ]
  },
  {
   "cell_type": "markdown",
   "id": "93f1c3c0",
   "metadata": {},
   "source": [
    "The objective of this project is to predict the area of forest firest that occured in Montesinho Natural Park in\n",
    "Portugal. In recent years forest fires have become a large concern worlwide. Specifically here in Canada, the\n",
    "recent forest fire season in the summer of 2023 resulted in large burn areas and unprecended smoky conditions across North America. \n",
    "\n",
    "Predicting the area of forest fires can be very useful for firefighting resource management and to help choose\n",
    "which targets to prioritize with limited resources. This is relevant to future summers here in Canada with forest\n",
    "fire occurences expected to increase in upcoming years due to increasing global temperatures."
   ]
  },
  {
   "cell_type": "markdown",
   "id": "fe7c568a",
   "metadata": {},
   "source": [
    "## Exploratory Data Analysis"
   ]
  },
  {
   "cell_type": "code",
   "execution_count": 2,
   "id": "44d616fe",
   "metadata": {},
   "outputs": [
    {
     "data": {
      "text/html": [
       "<div>\n",
       "<style scoped>\n",
       "    .dataframe tbody tr th:only-of-type {\n",
       "        vertical-align: middle;\n",
       "    }\n",
       "\n",
       "    .dataframe tbody tr th {\n",
       "        vertical-align: top;\n",
       "    }\n",
       "\n",
       "    .dataframe thead th {\n",
       "        text-align: right;\n",
       "    }\n",
       "</style>\n",
       "<table border=\"1\" class=\"dataframe\">\n",
       "  <thead>\n",
       "    <tr style=\"text-align: right;\">\n",
       "      <th></th>\n",
       "      <th>X</th>\n",
       "      <th>Y</th>\n",
       "      <th>month</th>\n",
       "      <th>day</th>\n",
       "      <th>FFMC</th>\n",
       "      <th>DMC</th>\n",
       "      <th>DC</th>\n",
       "      <th>ISI</th>\n",
       "      <th>temp</th>\n",
       "      <th>RH</th>\n",
       "      <th>wind</th>\n",
       "      <th>rain</th>\n",
       "      <th>area</th>\n",
       "    </tr>\n",
       "  </thead>\n",
       "  <tbody>\n",
       "    <tr>\n",
       "      <th>0</th>\n",
       "      <td>7</td>\n",
       "      <td>5</td>\n",
       "      <td>mar</td>\n",
       "      <td>fri</td>\n",
       "      <td>86.2</td>\n",
       "      <td>26.2</td>\n",
       "      <td>94.3</td>\n",
       "      <td>5.1</td>\n",
       "      <td>8.2</td>\n",
       "      <td>51</td>\n",
       "      <td>6.7</td>\n",
       "      <td>0.0</td>\n",
       "      <td>0.00</td>\n",
       "    </tr>\n",
       "    <tr>\n",
       "      <th>1</th>\n",
       "      <td>7</td>\n",
       "      <td>4</td>\n",
       "      <td>oct</td>\n",
       "      <td>tue</td>\n",
       "      <td>90.6</td>\n",
       "      <td>35.4</td>\n",
       "      <td>669.1</td>\n",
       "      <td>6.7</td>\n",
       "      <td>18.0</td>\n",
       "      <td>33</td>\n",
       "      <td>0.9</td>\n",
       "      <td>0.0</td>\n",
       "      <td>0.00</td>\n",
       "    </tr>\n",
       "    <tr>\n",
       "      <th>2</th>\n",
       "      <td>7</td>\n",
       "      <td>4</td>\n",
       "      <td>oct</td>\n",
       "      <td>sat</td>\n",
       "      <td>90.6</td>\n",
       "      <td>43.7</td>\n",
       "      <td>686.9</td>\n",
       "      <td>6.7</td>\n",
       "      <td>14.6</td>\n",
       "      <td>33</td>\n",
       "      <td>1.3</td>\n",
       "      <td>0.0</td>\n",
       "      <td>0.00</td>\n",
       "    </tr>\n",
       "    <tr>\n",
       "      <th>3</th>\n",
       "      <td>8</td>\n",
       "      <td>6</td>\n",
       "      <td>mar</td>\n",
       "      <td>fri</td>\n",
       "      <td>91.7</td>\n",
       "      <td>33.3</td>\n",
       "      <td>77.5</td>\n",
       "      <td>9.0</td>\n",
       "      <td>8.3</td>\n",
       "      <td>97</td>\n",
       "      <td>4.0</td>\n",
       "      <td>0.2</td>\n",
       "      <td>0.00</td>\n",
       "    </tr>\n",
       "    <tr>\n",
       "      <th>4</th>\n",
       "      <td>8</td>\n",
       "      <td>6</td>\n",
       "      <td>mar</td>\n",
       "      <td>sun</td>\n",
       "      <td>89.3</td>\n",
       "      <td>51.3</td>\n",
       "      <td>102.2</td>\n",
       "      <td>9.6</td>\n",
       "      <td>11.4</td>\n",
       "      <td>99</td>\n",
       "      <td>1.8</td>\n",
       "      <td>0.0</td>\n",
       "      <td>0.00</td>\n",
       "    </tr>\n",
       "    <tr>\n",
       "      <th>...</th>\n",
       "      <td>...</td>\n",
       "      <td>...</td>\n",
       "      <td>...</td>\n",
       "      <td>...</td>\n",
       "      <td>...</td>\n",
       "      <td>...</td>\n",
       "      <td>...</td>\n",
       "      <td>...</td>\n",
       "      <td>...</td>\n",
       "      <td>...</td>\n",
       "      <td>...</td>\n",
       "      <td>...</td>\n",
       "      <td>...</td>\n",
       "    </tr>\n",
       "    <tr>\n",
       "      <th>512</th>\n",
       "      <td>4</td>\n",
       "      <td>3</td>\n",
       "      <td>aug</td>\n",
       "      <td>sun</td>\n",
       "      <td>81.6</td>\n",
       "      <td>56.7</td>\n",
       "      <td>665.6</td>\n",
       "      <td>1.9</td>\n",
       "      <td>27.8</td>\n",
       "      <td>32</td>\n",
       "      <td>2.7</td>\n",
       "      <td>0.0</td>\n",
       "      <td>6.44</td>\n",
       "    </tr>\n",
       "    <tr>\n",
       "      <th>513</th>\n",
       "      <td>2</td>\n",
       "      <td>4</td>\n",
       "      <td>aug</td>\n",
       "      <td>sun</td>\n",
       "      <td>81.6</td>\n",
       "      <td>56.7</td>\n",
       "      <td>665.6</td>\n",
       "      <td>1.9</td>\n",
       "      <td>21.9</td>\n",
       "      <td>71</td>\n",
       "      <td>5.8</td>\n",
       "      <td>0.0</td>\n",
       "      <td>54.29</td>\n",
       "    </tr>\n",
       "    <tr>\n",
       "      <th>514</th>\n",
       "      <td>7</td>\n",
       "      <td>4</td>\n",
       "      <td>aug</td>\n",
       "      <td>sun</td>\n",
       "      <td>81.6</td>\n",
       "      <td>56.7</td>\n",
       "      <td>665.6</td>\n",
       "      <td>1.9</td>\n",
       "      <td>21.2</td>\n",
       "      <td>70</td>\n",
       "      <td>6.7</td>\n",
       "      <td>0.0</td>\n",
       "      <td>11.16</td>\n",
       "    </tr>\n",
       "    <tr>\n",
       "      <th>515</th>\n",
       "      <td>1</td>\n",
       "      <td>4</td>\n",
       "      <td>aug</td>\n",
       "      <td>sat</td>\n",
       "      <td>94.4</td>\n",
       "      <td>146.0</td>\n",
       "      <td>614.7</td>\n",
       "      <td>11.3</td>\n",
       "      <td>25.6</td>\n",
       "      <td>42</td>\n",
       "      <td>4.0</td>\n",
       "      <td>0.0</td>\n",
       "      <td>0.00</td>\n",
       "    </tr>\n",
       "    <tr>\n",
       "      <th>516</th>\n",
       "      <td>6</td>\n",
       "      <td>3</td>\n",
       "      <td>nov</td>\n",
       "      <td>tue</td>\n",
       "      <td>79.5</td>\n",
       "      <td>3.0</td>\n",
       "      <td>106.7</td>\n",
       "      <td>1.1</td>\n",
       "      <td>11.8</td>\n",
       "      <td>31</td>\n",
       "      <td>4.5</td>\n",
       "      <td>0.0</td>\n",
       "      <td>0.00</td>\n",
       "    </tr>\n",
       "  </tbody>\n",
       "</table>\n",
       "<p>517 rows × 13 columns</p>\n",
       "</div>"
      ],
      "text/plain": [
       "     X  Y month  day  FFMC    DMC     DC   ISI  temp  RH  wind  rain   area\n",
       "0    7  5   mar  fri  86.2   26.2   94.3   5.1   8.2  51   6.7   0.0   0.00\n",
       "1    7  4   oct  tue  90.6   35.4  669.1   6.7  18.0  33   0.9   0.0   0.00\n",
       "2    7  4   oct  sat  90.6   43.7  686.9   6.7  14.6  33   1.3   0.0   0.00\n",
       "3    8  6   mar  fri  91.7   33.3   77.5   9.0   8.3  97   4.0   0.2   0.00\n",
       "4    8  6   mar  sun  89.3   51.3  102.2   9.6  11.4  99   1.8   0.0   0.00\n",
       "..  .. ..   ...  ...   ...    ...    ...   ...   ...  ..   ...   ...    ...\n",
       "512  4  3   aug  sun  81.6   56.7  665.6   1.9  27.8  32   2.7   0.0   6.44\n",
       "513  2  4   aug  sun  81.6   56.7  665.6   1.9  21.9  71   5.8   0.0  54.29\n",
       "514  7  4   aug  sun  81.6   56.7  665.6   1.9  21.2  70   6.7   0.0  11.16\n",
       "515  1  4   aug  sat  94.4  146.0  614.7  11.3  25.6  42   4.0   0.0   0.00\n",
       "516  6  3   nov  tue  79.5    3.0  106.7   1.1  11.8  31   4.5   0.0   0.00\n",
       "\n",
       "[517 rows x 13 columns]"
      ]
     },
     "execution_count": 2,
     "metadata": {},
     "output_type": "execute_result"
    }
   ],
   "source": [
    "df = pd.read_csv('forestfires.csv')\n",
    "pd.reset_option(\"display.max_rows\")\n",
    "pd.reset_option(\"display.max_columns\")\n",
    "df"
   ]
  },
  {
   "cell_type": "markdown",
   "id": "89408912",
   "metadata": {},
   "source": [
    "The dataset contains 517 observations, 12 features and 1 target variable (area). The features fall into three categories:\n",
    "- spacial coordinates: X and y spacial coordinates within Montesinho Park map.\n",
    "- temporal variables: month and day of the week\n",
    "- meteoroligical variables: temp, RH, wind, rain (FFMC, DMC, DC and ISI are components of the Canadian system for rating fire danger)\n",
    "\n",
    "The target variable \"area burned\" is measured in hectares (ha) where 1 ha = 100 m^2. Values of zero mean that an area lower than 1 ha was burned."
   ]
  },
  {
   "cell_type": "code",
   "execution_count": 3,
   "id": "9869199d",
   "metadata": {},
   "outputs": [
    {
     "data": {
      "text/plain": [
       "X        0\n",
       "Y        0\n",
       "month    0\n",
       "day      0\n",
       "FFMC     0\n",
       "DMC      0\n",
       "DC       0\n",
       "ISI      0\n",
       "temp     0\n",
       "RH       0\n",
       "wind     0\n",
       "rain     0\n",
       "area     0\n",
       "dtype: int64"
      ]
     },
     "execution_count": 3,
     "metadata": {},
     "output_type": "execute_result"
    }
   ],
   "source": [
    "df.isnull().sum()"
   ]
  },
  {
   "cell_type": "markdown",
   "id": "8f50436b",
   "metadata": {},
   "source": [
    "There are no missing values in this dataset."
   ]
  },
  {
   "cell_type": "markdown",
   "id": "71943a98",
   "metadata": {},
   "source": [
    "d"
   ]
  },
  {
   "cell_type": "code",
   "execution_count": 4,
   "id": "7362ce48",
   "metadata": {},
   "outputs": [
    {
     "data": {
      "text/html": [
       "<div>\n",
       "<style scoped>\n",
       "    .dataframe tbody tr th:only-of-type {\n",
       "        vertical-align: middle;\n",
       "    }\n",
       "\n",
       "    .dataframe tbody tr th {\n",
       "        vertical-align: top;\n",
       "    }\n",
       "\n",
       "    .dataframe thead th {\n",
       "        text-align: right;\n",
       "    }\n",
       "</style>\n",
       "<table border=\"1\" class=\"dataframe\">\n",
       "  <thead>\n",
       "    <tr style=\"text-align: right;\">\n",
       "      <th></th>\n",
       "      <th>X</th>\n",
       "      <th>Y</th>\n",
       "      <th>FFMC</th>\n",
       "      <th>DMC</th>\n",
       "      <th>DC</th>\n",
       "      <th>ISI</th>\n",
       "      <th>temp</th>\n",
       "      <th>RH</th>\n",
       "      <th>wind</th>\n",
       "      <th>rain</th>\n",
       "      <th>area</th>\n",
       "    </tr>\n",
       "  </thead>\n",
       "  <tbody>\n",
       "    <tr>\n",
       "      <th>count</th>\n",
       "      <td>517.000000</td>\n",
       "      <td>517.000000</td>\n",
       "      <td>517.000000</td>\n",
       "      <td>517.000000</td>\n",
       "      <td>517.000000</td>\n",
       "      <td>517.000000</td>\n",
       "      <td>517.000000</td>\n",
       "      <td>517.000000</td>\n",
       "      <td>517.000000</td>\n",
       "      <td>517.000000</td>\n",
       "      <td>517.000000</td>\n",
       "    </tr>\n",
       "    <tr>\n",
       "      <th>mean</th>\n",
       "      <td>4.669246</td>\n",
       "      <td>4.299807</td>\n",
       "      <td>90.644681</td>\n",
       "      <td>110.872340</td>\n",
       "      <td>547.940039</td>\n",
       "      <td>9.021663</td>\n",
       "      <td>18.889168</td>\n",
       "      <td>44.288201</td>\n",
       "      <td>4.017602</td>\n",
       "      <td>0.021663</td>\n",
       "      <td>12.847292</td>\n",
       "    </tr>\n",
       "    <tr>\n",
       "      <th>std</th>\n",
       "      <td>2.313778</td>\n",
       "      <td>1.229900</td>\n",
       "      <td>5.520111</td>\n",
       "      <td>64.046482</td>\n",
       "      <td>248.066192</td>\n",
       "      <td>4.559477</td>\n",
       "      <td>5.806625</td>\n",
       "      <td>16.317469</td>\n",
       "      <td>1.791653</td>\n",
       "      <td>0.295959</td>\n",
       "      <td>63.655818</td>\n",
       "    </tr>\n",
       "    <tr>\n",
       "      <th>min</th>\n",
       "      <td>1.000000</td>\n",
       "      <td>2.000000</td>\n",
       "      <td>18.700000</td>\n",
       "      <td>1.100000</td>\n",
       "      <td>7.900000</td>\n",
       "      <td>0.000000</td>\n",
       "      <td>2.200000</td>\n",
       "      <td>15.000000</td>\n",
       "      <td>0.400000</td>\n",
       "      <td>0.000000</td>\n",
       "      <td>0.000000</td>\n",
       "    </tr>\n",
       "    <tr>\n",
       "      <th>25%</th>\n",
       "      <td>3.000000</td>\n",
       "      <td>4.000000</td>\n",
       "      <td>90.200000</td>\n",
       "      <td>68.600000</td>\n",
       "      <td>437.700000</td>\n",
       "      <td>6.500000</td>\n",
       "      <td>15.500000</td>\n",
       "      <td>33.000000</td>\n",
       "      <td>2.700000</td>\n",
       "      <td>0.000000</td>\n",
       "      <td>0.000000</td>\n",
       "    </tr>\n",
       "    <tr>\n",
       "      <th>50%</th>\n",
       "      <td>4.000000</td>\n",
       "      <td>4.000000</td>\n",
       "      <td>91.600000</td>\n",
       "      <td>108.300000</td>\n",
       "      <td>664.200000</td>\n",
       "      <td>8.400000</td>\n",
       "      <td>19.300000</td>\n",
       "      <td>42.000000</td>\n",
       "      <td>4.000000</td>\n",
       "      <td>0.000000</td>\n",
       "      <td>0.520000</td>\n",
       "    </tr>\n",
       "    <tr>\n",
       "      <th>75%</th>\n",
       "      <td>7.000000</td>\n",
       "      <td>5.000000</td>\n",
       "      <td>92.900000</td>\n",
       "      <td>142.400000</td>\n",
       "      <td>713.900000</td>\n",
       "      <td>10.800000</td>\n",
       "      <td>22.800000</td>\n",
       "      <td>53.000000</td>\n",
       "      <td>4.900000</td>\n",
       "      <td>0.000000</td>\n",
       "      <td>6.570000</td>\n",
       "    </tr>\n",
       "    <tr>\n",
       "      <th>max</th>\n",
       "      <td>9.000000</td>\n",
       "      <td>9.000000</td>\n",
       "      <td>96.200000</td>\n",
       "      <td>291.300000</td>\n",
       "      <td>860.600000</td>\n",
       "      <td>56.100000</td>\n",
       "      <td>33.300000</td>\n",
       "      <td>100.000000</td>\n",
       "      <td>9.400000</td>\n",
       "      <td>6.400000</td>\n",
       "      <td>1090.840000</td>\n",
       "    </tr>\n",
       "  </tbody>\n",
       "</table>\n",
       "</div>"
      ],
      "text/plain": [
       "                X           Y        FFMC         DMC          DC         ISI  \\\n",
       "count  517.000000  517.000000  517.000000  517.000000  517.000000  517.000000   \n",
       "mean     4.669246    4.299807   90.644681  110.872340  547.940039    9.021663   \n",
       "std      2.313778    1.229900    5.520111   64.046482  248.066192    4.559477   \n",
       "min      1.000000    2.000000   18.700000    1.100000    7.900000    0.000000   \n",
       "25%      3.000000    4.000000   90.200000   68.600000  437.700000    6.500000   \n",
       "50%      4.000000    4.000000   91.600000  108.300000  664.200000    8.400000   \n",
       "75%      7.000000    5.000000   92.900000  142.400000  713.900000   10.800000   \n",
       "max      9.000000    9.000000   96.200000  291.300000  860.600000   56.100000   \n",
       "\n",
       "             temp          RH        wind        rain         area  \n",
       "count  517.000000  517.000000  517.000000  517.000000   517.000000  \n",
       "mean    18.889168   44.288201    4.017602    0.021663    12.847292  \n",
       "std      5.806625   16.317469    1.791653    0.295959    63.655818  \n",
       "min      2.200000   15.000000    0.400000    0.000000     0.000000  \n",
       "25%     15.500000   33.000000    2.700000    0.000000     0.000000  \n",
       "50%     19.300000   42.000000    4.000000    0.000000     0.520000  \n",
       "75%     22.800000   53.000000    4.900000    0.000000     6.570000  \n",
       "max     33.300000  100.000000    9.400000    6.400000  1090.840000  "
      ]
     },
     "execution_count": 4,
     "metadata": {},
     "output_type": "execute_result"
    }
   ],
   "source": [
    "df.describe()"
   ]
  },
  {
   "cell_type": "markdown",
   "id": "78e2db62",
   "metadata": {},
   "source": [
    "The output above shows the range of each variable. The range of the target variable (area) is important to note\n",
    "here, with a min of 0 a max of 1091 and a mean of only 12.85. Let's checkout the distribution:"
   ]
  },
  {
   "cell_type": "code",
   "execution_count": 5,
   "id": "ae1c88f3",
   "metadata": {},
   "outputs": [
    {
     "name": "stdout",
     "output_type": "stream",
     "text": [
      "There are 95 observations with a burn area of 0 ha. That is almost half of the dataset.\n"
     ]
    }
   ],
   "source": [
    "zero_obs = len(df[df['area'] > 10])\n",
    "print(f\"There are {zero_obs} observations with a burn area of 0 ha. That is almost half of the dataset.\")"
   ]
  },
  {
   "cell_type": "code",
   "execution_count": 6,
   "id": "c477271f",
   "metadata": {},
   "outputs": [
    {
     "data": {
      "image/png": "[encoded data removed]",
      "text/plain": [
       "<Figure size 640x480 with 1 Axes>"
      ]
     },
     "metadata": {},
     "output_type": "display_data"
    }
   ],
   "source": [
    "# Plotting distribution of target variable, area\n",
    "sns.histplot(data=df, x='area')\n",
    "sns.set_style('darkgrid')\n",
    "plt.xlim(0, 200)\n",
    "plt.show()"
   ]
  },
  {
   "cell_type": "markdown",
   "id": "92be9879",
   "metadata": {},
   "source": [
    "Target variable distribution is clearly heavily right-skewed. This is due to all the observations with zero area (less than 1 ha). To improve the skewness, the log(1+x) function will be applid to all target variable values. This transformation can help improve regression results for right-skewed target variables."
   ]
  },
  {
   "cell_type": "code",
   "execution_count": 7,
   "id": "683dbb90",
   "metadata": {},
   "outputs": [
    {
     "data": {
      "image/png": "[encoded data removed]",
      "text/plain": [
       "<Figure size 640x480 with 1 Axes>"
      ]
     },
     "metadata": {},
     "output_type": "display_data"
    }
   ],
   "source": [
    "# Applying ln(1+x) transformation to area column, actually ln(1+x) despite log1p name\n",
    "df['ln_area'] = np.log1p(df['area'])\n",
    "df = df.drop('area', axis=1)\n",
    "# Plotting the transformed distribution\n",
    "sns.histplot(data=df, x='ln_area')\n",
    "sns.set_style('darkgrid')\n",
    "plt.xlim(0, 10)\n",
    "plt.show()"
   ]
  },
  {
   "cell_type": "markdown",
   "id": "e106b0cd",
   "metadata": {},
   "source": [
    "Target variable is still right-skewed but less so. This will hopefully improve regression performance."
   ]
  },
  {
   "cell_type": "code",
   "execution_count": 8,
   "id": "cc5de73a",
   "metadata": {},
   "outputs": [
    {
     "name": "stdout",
     "output_type": "stream",
     "text": [
      "<class 'pandas.core.frame.DataFrame'>\n",
      "RangeIndex: 517 entries, 0 to 516\n",
      "Data columns (total 13 columns):\n",
      " #   Column   Non-Null Count  Dtype  \n",
      "---  ------   --------------  -----  \n",
      " 0   X        517 non-null    int64  \n",
      " 1   Y        517 non-null    int64  \n",
      " 2   month    517 non-null    object \n",
      " 3   day      517 non-null    object \n",
      " 4   FFMC     517 non-null    float64\n",
      " 5   DMC      517 non-null    float64\n",
      " 6   DC       517 non-null    float64\n",
      " 7   ISI      517 non-null    float64\n",
      " 8   temp     517 non-null    float64\n",
      " 9   RH       517 non-null    int64  \n",
      " 10  wind     517 non-null    float64\n",
      " 11  rain     517 non-null    float64\n",
      " 12  ln_area  517 non-null    float64\n",
      "dtypes: float64(8), int64(3), object(2)\n",
      "memory usage: 52.6+ KB\n"
     ]
    }
   ],
   "source": [
    "# Displaying feature data types\n",
    "df.info()"
   ]
  },
  {
   "cell_type": "markdown",
   "id": "8be7e1ef",
   "metadata": {},
   "source": [
    "All data types are in numeric format except the month and day of the week columns. The categorical variables will be encoded and the numerical features will be scaled to ensure they are suitable for a range of model types. For scaling, the numeric variables will be standardized so each one has a mean of 0 and unit variance."
   ]
  },
  {
   "cell_type": "markdown",
   "id": "230d8ff5",
   "metadata": {},
   "source": [
    "**Note: the data will be separated into train and test sets at this point to avoid information leakage. Without this split, information from the test set would be learned during feature scaling which could artificially improve performance on unseen data (test set).**"
   ]
  },
  {
   "cell_type": "code",
   "execution_count": 9,
   "id": "c3a8d1e1",
   "metadata": {},
   "outputs": [],
   "source": [
    "# Separating features and target variable\n",
    "X = df.drop('ln_area', axis=1)\n",
    "y = df['ln_area']\n",
    "# Performing train_test split\n",
    "from sklearn.model_selection import train_test_split\n",
    "X_train, X_test, y_train, y_test = train_test_split(X, y, test_size=0.25, shuffle=True, random_state=10)"
   ]
  },
  {
   "cell_type": "code",
   "execution_count": 10,
   "id": "bb1ada06",
   "metadata": {},
   "outputs": [],
   "source": [
    "# Standardizing data\n",
    "from sklearn.preprocessing import StandardScaler\n",
    "# Standardizing numeric features of train set\n",
    "scaler = StandardScaler()\n",
    "numeric_cols = ['X', 'Y', 'FFMC', 'DMC', 'DC', 'ISI', 'temp', 'RH', 'wind', 'rain']\n",
    "scaler.fit(X_train[numeric_cols])\n",
    "X_train[numeric_cols] = scaler.transform(X_train[numeric_cols])"
   ]
  },
  {
   "cell_type": "markdown",
   "id": "f8844965",
   "metadata": {},
   "source": [
    "The test set will now be standardized using the scaler fit on the train set (it is important that the scaler is not fit on the test set here to prevent information leakge)"
   ]
  },
  {
   "cell_type": "code",
   "execution_count": 11,
   "id": "2d21a556",
   "metadata": {},
   "outputs": [
    {
     "data": {
      "text/html": [
       "<div>\n",
       "<style scoped>\n",
       "    .dataframe tbody tr th:only-of-type {\n",
       "        vertical-align: middle;\n",
       "    }\n",
       "\n",
       "    .dataframe tbody tr th {\n",
       "        vertical-align: top;\n",
       "    }\n",
       "\n",
       "    .dataframe thead th {\n",
       "        text-align: right;\n",
       "    }\n",
       "</style>\n",
       "<table border=\"1\" class=\"dataframe\">\n",
       "  <thead>\n",
       "    <tr style=\"text-align: right;\">\n",
       "      <th></th>\n",
       "      <th>X</th>\n",
       "      <th>Y</th>\n",
       "      <th>FFMC</th>\n",
       "      <th>DMC</th>\n",
       "      <th>DC</th>\n",
       "      <th>ISI</th>\n",
       "      <th>temp</th>\n",
       "      <th>RH</th>\n",
       "      <th>wind</th>\n",
       "      <th>rain</th>\n",
       "    </tr>\n",
       "  </thead>\n",
       "  <tbody>\n",
       "    <tr>\n",
       "      <th>count</th>\n",
       "      <td>130.000000</td>\n",
       "      <td>130.000000</td>\n",
       "      <td>130.000000</td>\n",
       "      <td>130.000000</td>\n",
       "      <td>130.000000</td>\n",
       "      <td>130.000000</td>\n",
       "      <td>130.000000</td>\n",
       "      <td>130.000000</td>\n",
       "      <td>130.000000</td>\n",
       "      <td>130.000000</td>\n",
       "    </tr>\n",
       "    <tr>\n",
       "      <th>mean</th>\n",
       "      <td>-0.057956</td>\n",
       "      <td>-0.138343</td>\n",
       "      <td>0.071984</td>\n",
       "      <td>-0.173326</td>\n",
       "      <td>-0.066123</td>\n",
       "      <td>-0.003282</td>\n",
       "      <td>-0.035793</td>\n",
       "      <td>-0.099121</td>\n",
       "      <td>0.144928</td>\n",
       "      <td>0.344584</td>\n",
       "    </tr>\n",
       "    <tr>\n",
       "      <th>std</th>\n",
       "      <td>1.013235</td>\n",
       "      <td>0.889505</td>\n",
       "      <td>0.791126</td>\n",
       "      <td>0.880904</td>\n",
       "      <td>0.983438</td>\n",
       "      <td>0.830910</td>\n",
       "      <td>1.084417</td>\n",
       "      <td>1.095393</td>\n",
       "      <td>1.204455</td>\n",
       "      <td>5.252061</td>\n",
       "    </tr>\n",
       "    <tr>\n",
       "      <th>min</th>\n",
       "      <td>-1.606171</td>\n",
       "      <td>-1.858708</td>\n",
       "      <td>-6.926885</td>\n",
       "      <td>-1.675798</td>\n",
       "      <td>-2.155849</td>\n",
       "      <td>-1.817110</td>\n",
       "      <td>-2.594067</td>\n",
       "      <td>-1.865745</td>\n",
       "      <td>-1.802310</td>\n",
       "      <td>-0.116052</td>\n",
       "    </tr>\n",
       "    <tr>\n",
       "      <th>25%</th>\n",
       "      <td>-1.063962</td>\n",
       "      <td>-0.272556</td>\n",
       "      <td>-0.019810</td>\n",
       "      <td>-0.951154</td>\n",
       "      <td>-0.507274</td>\n",
       "      <td>-0.458319</td>\n",
       "      <td>-0.649438</td>\n",
       "      <td>-1.032957</td>\n",
       "      <td>-0.740675</td>\n",
       "      <td>-0.116052</td>\n",
       "    </tr>\n",
       "    <tr>\n",
       "      <th>50%</th>\n",
       "      <td>-0.304870</td>\n",
       "      <td>-0.272556</td>\n",
       "      <td>0.200216</td>\n",
       "      <td>-0.132934</td>\n",
       "      <td>0.317767</td>\n",
       "      <td>-0.089655</td>\n",
       "      <td>0.028103</td>\n",
       "      <td>-0.357298</td>\n",
       "      <td>0.026061</td>\n",
       "      <td>-0.116052</td>\n",
       "    </tr>\n",
       "    <tr>\n",
       "      <th>75%</th>\n",
       "      <td>0.996431</td>\n",
       "      <td>0.520520</td>\n",
       "      <td>0.390042</td>\n",
       "      <td>0.338750</td>\n",
       "      <td>0.619790</td>\n",
       "      <td>0.415941</td>\n",
       "      <td>0.639649</td>\n",
       "      <td>0.396926</td>\n",
       "      <td>0.851777</td>\n",
       "      <td>-0.116052</td>\n",
       "    </tr>\n",
       "    <tr>\n",
       "      <th>max</th>\n",
       "      <td>1.863966</td>\n",
       "      <td>1.313596</td>\n",
       "      <td>0.959520</td>\n",
       "      <td>2.473501</td>\n",
       "      <td>1.096521</td>\n",
       "      <td>2.880724</td>\n",
       "      <td>2.527084</td>\n",
       "      <td>3.099560</td>\n",
       "      <td>3.210965</td>\n",
       "      <td>59.766662</td>\n",
       "    </tr>\n",
       "  </tbody>\n",
       "</table>\n",
       "</div>"
      ],
      "text/plain": [
       "                X           Y        FFMC         DMC          DC         ISI  \\\n",
       "count  130.000000  130.000000  130.000000  130.000000  130.000000  130.000000   \n",
       "mean    -0.057956   -0.138343    0.071984   -0.173326   -0.066123   -0.003282   \n",
       "std      1.013235    0.889505    0.791126    0.880904    0.983438    0.830910   \n",
       "min     -1.606171   -1.858708   -6.926885   -1.675798   -2.155849   -1.817110   \n",
       "25%     -1.063962   -0.272556   -0.019810   -0.951154   -0.507274   -0.458319   \n",
       "50%     -0.304870   -0.272556    0.200216   -0.132934    0.317767   -0.089655   \n",
       "75%      0.996431    0.520520    0.390042    0.338750    0.619790    0.415941   \n",
       "max      1.863966    1.313596    0.959520    2.473501    1.096521    2.880724   \n",
       "\n",
       "             temp          RH        wind        rain  \n",
       "count  130.000000  130.000000  130.000000  130.000000  \n",
       "mean    -0.035793   -0.099121    0.144928    0.344584  \n",
       "std      1.084417    1.095393    1.204455    5.252061  \n",
       "min     -2.594067   -1.865745   -1.802310   -0.116052  \n",
       "25%     -0.649438   -1.032957   -0.740675   -0.116052  \n",
       "50%      0.028103   -0.357298    0.026061   -0.116052  \n",
       "75%      0.639649    0.396926    0.851777   -0.116052  \n",
       "max      2.527084    3.099560    3.210965   59.766662  "
      ]
     },
     "execution_count": 11,
     "metadata": {},
     "output_type": "execute_result"
    }
   ],
   "source": [
    "# Standardizing test set with scaler fit on train set\n",
    "X_test[numeric_cols] = scaler.transform(X_test[numeric_cols])\n",
    "X_test.describe()"
   ]
  },
  {
   "cell_type": "markdown",
   "id": "3719a24c",
   "metadata": {},
   "source": [
    "It is seen above that the features are not perfectly scaled to mean of 0 and std dev. of 1. This is a consequence of transforming the unseen data using a scaler fit on the seen data and properly mimics real-world conditions."
   ]
  },
  {
   "cell_type": "code",
   "execution_count": 12,
   "id": "6bc6511d",
   "metadata": {},
   "outputs": [],
   "source": [
    "# Creating function to encode data\n",
    "def encode(df):\n",
    "    # Encoding categorical variables\n",
    "    df_encoded = pd.get_dummies(df, drop_first=True)\n",
    "    col = df_encoded.select_dtypes(include='bool').columns\n",
    "    df_encoded[col] = df_encoded[col].astype('int')\n",
    "    return df_encoded"
   ]
  },
  {
   "cell_type": "code",
   "execution_count": 13,
   "id": "95021f5e",
   "metadata": {},
   "outputs": [
    {
     "name": "stdout",
     "output_type": "stream",
     "text": [
      "Train set features: Index(['X', 'Y', 'FFMC', 'DMC', 'DC', 'ISI', 'temp', 'RH', 'wind', 'rain',\n",
      "       'month_aug', 'month_dec', 'month_feb', 'month_jan', 'month_jul',\n",
      "       'month_jun', 'month_mar', 'month_may', 'month_nov', 'month_oct',\n",
      "       'month_sep', 'day_mon', 'day_sat', 'day_sun', 'day_thu', 'day_tue',\n",
      "       'day_wed'],\n",
      "      dtype='object').\n",
      "Train set features: Index(['X', 'Y', 'FFMC', 'DMC', 'DC', 'ISI', 'temp', 'RH', 'wind', 'rain',\n",
      "       'month_aug', 'month_dec', 'month_feb', 'month_jul', 'month_jun',\n",
      "       'month_mar', 'month_may', 'month_oct', 'month_sep', 'day_mon',\n",
      "       'day_sat', 'day_sun', 'day_thu', 'day_tue', 'day_wed'],\n",
      "      dtype='object').\n"
     ]
    }
   ],
   "source": [
    "# Encoding cat variables of train and test set\n",
    "X_train = encode(X_train)\n",
    "X_test = encode(X_test)\n",
    "print(f\"Train set features: {X_train.columns}.\")\n",
    "print(f\"Train set features: {X_test.columns}.\")"
   ]
  },
  {
   "cell_type": "markdown",
   "id": "f65110a8",
   "metadata": {},
   "source": [
    "The train set has more features than the test set. This is due to a small number of fires that occured during the winter months that all ended up in the test set. These observations will be removed along with the corresponding features to ensure feature consistency. The months are January and November."
   ]
  },
  {
   "cell_type": "code",
   "execution_count": 14,
   "id": "5594791e",
   "metadata": {},
   "outputs": [
    {
     "name": "stdout",
     "output_type": "stream",
     "text": [
      "There are 3 observations that occured in November or January.\n"
     ]
    }
   ],
   "source": [
    "# Counting observations that occur in jan and nov\n",
    "nov_cols = X_train[X_train['month_jan'] != 0]\n",
    "jan_cols = X_train[X_train['month_nov'] != 0]\n",
    "print(f\"There are {len(nov_cols) + len(jan_cols)} observations that occured in November or January.\")"
   ]
  },
  {
   "cell_type": "code",
   "execution_count": 15,
   "id": "223d2c1a",
   "metadata": {},
   "outputs": [
    {
     "data": {
      "text/plain": [
       "(387, 27)"
      ]
     },
     "execution_count": 15,
     "metadata": {},
     "output_type": "execute_result"
    }
   ],
   "source": [
    "X_train.shape"
   ]
  },
  {
   "cell_type": "code",
   "execution_count": 16,
   "id": "56b2e1ea",
   "metadata": {},
   "outputs": [
    {
     "data": {
      "text/plain": [
       "(384, 27)"
      ]
     },
     "execution_count": 16,
     "metadata": {},
     "output_type": "execute_result"
    }
   ],
   "source": [
    "# Dropping 3 observations in these months\n",
    "nov_index = X_train.index[X_train['month_jan'] != 0]\n",
    "jan_index = X_train.index[X_train['month_nov'] != 0]\n",
    "X_train.drop(nov_index, axis=0, inplace=True)\n",
    "X_train.drop(jan_index, axis=0, inplace=True)\n",
    "X_train.shape"
   ]
  },
  {
   "cell_type": "code",
   "execution_count": 17,
   "id": "3ec50327",
   "metadata": {},
   "outputs": [
    {
     "data": {
      "text/plain": [
       "(384, 25)"
      ]
     },
     "execution_count": 17,
     "metadata": {},
     "output_type": "execute_result"
    }
   ],
   "source": [
    "# Dropping nov and jan features (which now contain only zeros)\n",
    "cols_to_drop = ['month_nov', 'month_jan']\n",
    "X_train.drop(cols_to_drop, axis=1, inplace=True)\n",
    "X_train.shape"
   ]
  },
  {
   "cell_type": "code",
   "execution_count": 18,
   "id": "d0c04e2e",
   "metadata": {},
   "outputs": [],
   "source": [
    "# Ensuring train and test sets now contains same number of features\n",
    "assert len(X_train.columns) == len(X_test.columns)"
   ]
  },
  {
   "cell_type": "code",
   "execution_count": 19,
   "id": "d889587e",
   "metadata": {},
   "outputs": [
    {
     "data": {
      "text/plain": [
       "(384,)"
      ]
     },
     "execution_count": 19,
     "metadata": {},
     "output_type": "execute_result"
    }
   ],
   "source": [
    "# The 3 observations are also dropped from y_test\n",
    "y_train.drop(nov_index, axis=0, inplace=True)\n",
    "y_train.drop(jan_index, axis=0, inplace=True)\n",
    "y_train.shape"
   ]
  },
  {
   "cell_type": "markdown",
   "id": "541b2d6b",
   "metadata": {},
   "source": [
    "View correlations between variables before modelling"
   ]
  },
  {
   "cell_type": "markdown",
   "id": "29820672",
   "metadata": {},
   "source": [
    "## Modeling"
   ]
  },
  {
   "cell_type": "markdown",
   "id": "fd5269a0",
   "metadata": {},
   "source": [
    "Cross validation will be performed for several different models using their default parameters and evaluated using root mean squared error (MSE). The hyperparameters of the best performing model will then be optimized."
   ]
  },
  {
   "cell_type": "markdown",
   "id": "f945a506",
   "metadata": {},
   "source": [
    "### Cross-Validation"
   ]
  },
  {
   "cell_type": "code",
   "execution_count": 20,
   "id": "e7c56d5c",
   "metadata": {},
   "outputs": [],
   "source": [
    "# Importing models, cross-validation and pipeline\n",
    "from sklearn.linear_model import LinearRegression\n",
    "from sklearn.ensemble import RandomForestRegressor\n",
    "from sklearn.svm import SVR\n",
    "from sklearn.model_selection import cross_val_score\n",
    "from sklearn.model_selection import KFold\n",
    "from sklearn.pipeline import Pipeline"
   ]
  },
  {
   "cell_type": "code",
   "execution_count": 21,
   "id": "7f5d8a5d",
   "metadata": {},
   "outputs": [
    {
     "data": {
      "image/png": "[encoded data removed]",
      "text/plain": [
       "<Figure size 640x480 with 1 Axes>"
      ]
     },
     "metadata": {},
     "output_type": "display_data"
    },
    {
     "name": "stdout",
     "output_type": "stream",
     "text": [
      "[array([1.33608833, 1.30029415, 1.46354682, 1.66607141, 1.40245332]), array([1.37920043, 1.38273691, 1.48119944, 1.77980863, 1.4599673 ]), array([1.39151318, 1.25199111, 1.46538003, 1.78024134, 1.49873331])]\n"
     ]
    }
   ],
   "source": [
    "# Performing cross validation for three models\n",
    "models = {'linear_regression': LinearRegression(), 'random_forest': RandomForestRegressor(), 'supper_vector_machine':\n",
    "         SVR()}\n",
    "results=[]\n",
    "for model in models.values():\n",
    "    kf = KFold(n_splits=5, shuffle=True, random_state=10)\n",
    "    cv_mse = -cross_val_score(model, X_train, y_train, cv=kf, scoring='neg_mean_squared_error')\n",
    "    # appending RMSE scores from cross-val for each model to the list of results\n",
    "    results.append(cv_mse ** 0.5)\n",
    "    \n",
    "# Visualizing the RMSE from 5-fold cross-validation for each model\n",
    "plt.boxplot(results, labels=models.keys())\n",
    "plt.ylabel('RMSE')\n",
    "plt.show()\n",
    "print(results)"
   ]
  },
  {
   "cell_type": "markdown",
   "id": "6f04ebb0",
   "metadata": {},
   "source": [
    "In 5-fold cross-validation, the linear regression model performs the best with the lowest median RMSE. The performance of each model on the unseen test set will now be determined."
   ]
  },
  {
   "cell_type": "code",
   "execution_count": 22,
   "id": "7e5617b8",
   "metadata": {},
   "outputs": [
    {
     "name": "stdout",
     "output_type": "stream",
     "text": [
      "linear_regression test set RMSE: 1.61\n",
      "random_forest test set RMSE: 1.46\n",
      "supper_vector_machine test set RMSE: 1.57\n"
     ]
    }
   ],
   "source": [
    "# Evaluating performance on test set\n",
    "from sklearn.metrics import mean_squared_error as MSE\n",
    "for name, model in models.items():\n",
    "    model.fit(X_train, y_train)\n",
    "    y_pred = model.predict(X_test)\n",
    "    rmse_test = MSE(y_test, y_pred) ** 0.5\n",
    "    print(f'{name} test set RMSE: {rmse_test.round(2)}')"
   ]
  },
  {
   "cell_type": "markdown",
   "id": "4466302e",
   "metadata": {},
   "source": [
    "The random forest model performs the best on the unseen test set with a RMSE of 1.46. This discrepancy between the cross-validation and test scores reflect the model characteristics. Random forest is less likely to overfit the training data because it is comprised of many individual, independant decision trees that are each fitted on random subsets of the training set."
   ]
  },
  {
   "cell_type": "markdown",
   "id": "6b658ab4",
   "metadata": {},
   "source": [
    "### Optimizing Hyperparameters"
   ]
  },
  {
   "cell_type": "markdown",
   "id": "f14b8b0e",
   "metadata": {},
   "source": [
    "Due to its high performance (lowest RMSE) on the unseen data, the random forest model will be chosen for further optimization. Hyperparameter optimzation will be performed using GridSearchCV.\n",
    "\n",
    "The most important hyperparameters for random forest models are the number of decision trees (n_estimators) and the maximum depth of each decision tree (max_depth)."
   ]
  },
  {
   "cell_type": "code",
   "execution_count": 23,
   "id": "90b0c63b",
   "metadata": {},
   "outputs": [
    {
     "name": "stdout",
     "output_type": "stream",
     "text": [
      "RandomForestRegressor(max_depth=3, max_features='sqrt', max_samples=0.7,\n",
      "                      n_estimators=10, random_state=10)\n"
     ]
    }
   ],
   "source": [
    "from sklearn.model_selection import GridSearchCV\n",
    "rf = RandomForestRegressor(random_state=10)\n",
    "# Defining hyperparameters to search over\n",
    "rf_params={'n_estimators': [10, 50, 100, 500], 'max_depth': [3, 6, 9], 'max_features': ['sqrt', 'log2', None],\n",
    "          'max_samples': [None, 0.3, 0.7]}\n",
    "gridCV = GridSearchCV(rf, rf_params, scoring='neg_mean_squared_error', cv=3, n_jobs=-1)\n",
    "gridCV.fit(X_train, y_train)\n",
    "# Printing the optimal set of hyperparameters\n",
    "best_model = gridCV.best_estimator_\n",
    "print(best_model)"
   ]
  },
  {
   "cell_type": "code",
   "execution_count": 24,
   "id": "b45bcb63",
   "metadata": {},
   "outputs": [
    {
     "name": "stdout",
     "output_type": "stream",
     "text": [
      "Cross validation RMSE for optimal random forest hyperparameters: 1.3940480173829661\n"
     ]
    }
   ],
   "source": [
    "print(f\"Cross validation RMSE for optimal random forest hyperparameters: {(gridCV.best_score_ * -1)**0.5}\")"
   ]
  },
  {
   "cell_type": "code",
   "execution_count": 25,
   "id": "9abb34b1",
   "metadata": {},
   "outputs": [
    {
     "name": "stdout",
     "output_type": "stream",
     "text": [
      "The optimal RF model achieves an RMSE of 1.458 on the test set\n"
     ]
    }
   ],
   "source": [
    "# Calculating RMSE for optimal RF on test set\n",
    "y_pred_rf = best_model.predict(X_test)\n",
    "RMSE_test = MSE(y_test, y_pred_rf) ** 0.5\n",
    "print(f\"The optimal RF model achieves an RMSE of {RMSE_test.round(3)} on the test set\")"
   ]
  },
  {
   "cell_type": "markdown",
   "id": "7c80761a",
   "metadata": {},
   "source": [
    "**It is important to remember the ln(1+x) transformation we applied to the target variable during prepocessing. This transformation must be undone in order to get an accurate representation of model metrics like RMSE.**"
   ]
  },
  {
   "cell_type": "code",
   "execution_count": 26,
   "id": "14e47e1d",
   "metadata": {},
   "outputs": [],
   "source": [
    "# Creating new dataframe for untransformed target values\n",
    "y_pred_rf = pd.Series(y_pred_rf)\n",
    "y_df = pd.concat([y_test.reset_index(drop=True), y_pred_rf.reset_index(drop=True)], axis=1)\n",
    "y_df.rename(columns = {0:'ln_area_pred'}, inplace=True)"
   ]
  },
  {
   "cell_type": "code",
   "execution_count": 27,
   "id": "1d7763a6",
   "metadata": {},
   "outputs": [
    {
     "data": {
      "text/html": [
       "<div>\n",
       "<style scoped>\n",
       "    .dataframe tbody tr th:only-of-type {\n",
       "        vertical-align: middle;\n",
       "    }\n",
       "\n",
       "    .dataframe tbody tr th {\n",
       "        vertical-align: top;\n",
       "    }\n",
       "\n",
       "    .dataframe thead th {\n",
       "        text-align: right;\n",
       "    }\n",
       "</style>\n",
       "<table border=\"1\" class=\"dataframe\">\n",
       "  <thead>\n",
       "    <tr style=\"text-align: right;\">\n",
       "      <th></th>\n",
       "      <th>area</th>\n",
       "      <th>area_pred</th>\n",
       "    </tr>\n",
       "  </thead>\n",
       "  <tbody>\n",
       "    <tr>\n",
       "      <th>0</th>\n",
       "      <td>86.45</td>\n",
       "      <td>1.615472</td>\n",
       "    </tr>\n",
       "    <tr>\n",
       "      <th>1</th>\n",
       "      <td>0.00</td>\n",
       "      <td>2.585070</td>\n",
       "    </tr>\n",
       "    <tr>\n",
       "      <th>2</th>\n",
       "      <td>0.00</td>\n",
       "      <td>4.188435</td>\n",
       "    </tr>\n",
       "    <tr>\n",
       "      <th>3</th>\n",
       "      <td>7.31</td>\n",
       "      <td>1.594487</td>\n",
       "    </tr>\n",
       "    <tr>\n",
       "      <th>4</th>\n",
       "      <td>2.01</td>\n",
       "      <td>1.799752</td>\n",
       "    </tr>\n",
       "    <tr>\n",
       "      <th>...</th>\n",
       "      <td>...</td>\n",
       "      <td>...</td>\n",
       "    </tr>\n",
       "    <tr>\n",
       "      <th>125</th>\n",
       "      <td>0.00</td>\n",
       "      <td>1.169692</td>\n",
       "    </tr>\n",
       "    <tr>\n",
       "      <th>126</th>\n",
       "      <td>24.59</td>\n",
       "      <td>2.125339</td>\n",
       "    </tr>\n",
       "    <tr>\n",
       "      <th>127</th>\n",
       "      <td>0.52</td>\n",
       "      <td>1.231928</td>\n",
       "    </tr>\n",
       "    <tr>\n",
       "      <th>128</th>\n",
       "      <td>0.00</td>\n",
       "      <td>1.079415</td>\n",
       "    </tr>\n",
       "    <tr>\n",
       "      <th>129</th>\n",
       "      <td>0.00</td>\n",
       "      <td>1.007693</td>\n",
       "    </tr>\n",
       "  </tbody>\n",
       "</table>\n",
       "<p>130 rows × 2 columns</p>\n",
       "</div>"
      ],
      "text/plain": [
       "      area  area_pred\n",
       "0    86.45   1.615472\n",
       "1     0.00   2.585070\n",
       "2     0.00   4.188435\n",
       "3     7.31   1.594487\n",
       "4     2.01   1.799752\n",
       "..     ...        ...\n",
       "125   0.00   1.169692\n",
       "126  24.59   2.125339\n",
       "127   0.52   1.231928\n",
       "128   0.00   1.079415\n",
       "129   0.00   1.007693\n",
       "\n",
       "[130 rows x 2 columns]"
      ]
     },
     "execution_count": 27,
     "metadata": {},
     "output_type": "execute_result"
    }
   ],
   "source": [
    "# Apply reverse transformation to each column (e^x - 1)\n",
    "cols = y_df.columns\n",
    "for col in cols:\n",
    "    y_df[col] = np.exp(y_df[col]) - 1\n",
    "# Renaming columns to area\n",
    "y_df.rename(columns = {'ln_area':'area', 'ln_area_pred':'area_pred'}, inplace=True)\n",
    "# pd.set_option(\"display.max_rows\", None)\n",
    "# pd.set_option(\"display.max_columns\", None)\n",
    "pd.reset_option(\"display.max_rows\")\n",
    "pd.reset_option(\"display.max_columns\")\n",
    "y_df"
   ]
  },
  {
   "cell_type": "markdown",
   "id": "73e62797",
   "metadata": {},
   "source": [
    "### Evaluating Results"
   ]
  },
  {
   "cell_type": "code",
   "execution_count": 28,
   "id": "b9a7a704",
   "metadata": {},
   "outputs": [
    {
     "name": "stdout",
     "output_type": "stream",
     "text": [
      "The optimal RF model achieves a transformed RMSE of 98.551 ha on the test set.\n"
     ]
    }
   ],
   "source": [
    "# Recalculate RMSE for transformed test set\n",
    "y_test_list = y_df['area'].tolist()\n",
    "y_pred_list = y_df['area_pred'].tolist()\n",
    "RMSE_test_final = MSE(y_test_list, y_pred_list) ** 0.5\n",
    "# RMSE_test_final = MSE(pd.Series(y_df['area']), pd.Series(y_df['area_pred'])) ** 0.5\n",
    "print(f\"The optimal RF model achieves a transformed RMSE of {RMSE_test_final.round(3)} ha on the test set.\")"
   ]
  },
  {
   "cell_type": "markdown",
   "id": "05324cf1",
   "metadata": {},
   "source": [
    "The RMSE for the transformed target variables is very large. This indicates the model has poor accuracy since most of the areas are well below 98 ha. \n",
    "\n",
    "Upon further examination of the test and predictd areas, it can be seen that the model predicts small fires (with low area) quite well. However, it predicts small areas for very large fires which is the main reason the RMSE is so large. The model likely does not have enough observations for large fires to learn how to predict them accurately since most of the fire areas are close to 0 (with roughly half of them actually 0)."
   ]
  },
  {
   "cell_type": "code",
   "execution_count": 29,
   "id": "965b7149",
   "metadata": {},
   "outputs": [
    {
     "data": {
      "image/png": "[encoded data removed]",
      "text/plain": [
       "<Figure size 640x480 with 1 Axes>"
      ]
     },
     "metadata": {},
     "output_type": "display_data"
    }
   ],
   "source": [
    "# Creating new column to visually separate small and large fires in plot\n",
    "y_df['fire_area'] = y_df['area'] * 1\n",
    "y_df['fire_area'] = y_df['fire_area'].apply(lambda x: 'below 5 ha' if x < 5 else 'above 5 ha')\n",
    "y_df\n",
    "# Plotting actual area vs predicted area values\n",
    "sns.scatterplot(data=y_df, y='area_pred', x='area', hue='fire_area')\n",
    "plt.xlabel(\"Actual Area\")\n",
    "plt.ylabel(\"Predicted Area\")\n",
    "plt.xlim(0,50)\n",
    "plt.ylim(0,50)\n",
    "plt.show()"
   ]
  },
  {
   "cell_type": "markdown",
   "id": "8f9639a2",
   "metadata": {},
   "source": [
    "The predicted vs actual plot above shows how the model can somewhat accurately predict small fire areas but it consistently fails to predict large fire areas. It incorrectly predicts all large fire areas as small."
   ]
  },
  {
   "cell_type": "code",
   "execution_count": 30,
   "id": "0aff162a",
   "metadata": {},
   "outputs": [],
   "source": [
    "# Dataframe of true y_train values and fit y values from trained model\n",
    "y_fit_rf = best_model.predict(X_train)\n",
    "y_fit_rf = pd.Series(y_fit_rf)\n",
    "fit_df = pd.concat([y_train.reset_index(drop=True), y_fit_rf.reset_index(drop=True)], axis=1)\n",
    "fit_df.rename(columns={'ln_area':'y_true', 0:'y_fit'}, inplace=True)\n",
    "fit_df.sort_values(by='y_true', ascending=True, inplace=True)\n",
    "fit_df.reset_index(inplace=True, drop=True)\n",
    "# remove transformation\n",
    "cols = fit_df.columns\n",
    "for col in cols:\n",
    "    fit_df[col] = np.exp(fit_df[col]) - 1"
   ]
  },
  {
   "cell_type": "code",
   "execution_count": 31,
   "id": "33436db5",
   "metadata": {},
   "outputs": [
    {
     "data": {
      "image/png": "[encoded data removed]",
      "text/plain": [
       "<Figure size 640x480 with 1 Axes>"
      ]
     },
     "metadata": {},
     "output_type": "display_data"
    }
   ],
   "source": [
    "# Plotting y_train vs sorted index of y_train\n",
    "ax = sns.scatterplot(data=fit_df, y='y_true', x=fit_df.index, label=\"y_true\")\n",
    "# Plotting y_fit values\n",
    "sns.scatterplot(data=fit_df, y='y_fit', x=fit_df.index, ax=ax, label=\"y_fit\")\n",
    "plt.xlabel(\"Sorted Index of y_train\")\n",
    "plt.ylabel(\"y\")\n",
    "plt.ylim(0,20)\n",
    "plt.title(\"Train Set\")\n",
    "plt.legend()\n",
    "plt.show()"
   ]
  },
  {
   "cell_type": "code",
   "execution_count": 32,
   "id": "b3d3d632",
   "metadata": {},
   "outputs": [
    {
     "data": {
      "image/png": "[encoded data removed]",
      "text/plain": [
       "<Figure size 640x480 with 1 Axes>"
      ]
     },
     "metadata": {},
     "output_type": "display_data"
    }
   ],
   "source": [
    "# Sorting index of y_df\n",
    "y_df.sort_values(by='area', ascending=True, inplace=True)\n",
    "y_df.reset_index(drop=True, inplace=True)\n",
    "# Plotting y_test vs sorted index of y_test\n",
    "ax = sns.scatterplot(data=y_df, y='area', x=y_df.index, label='y_true')\n",
    "# Plotting y_pred values\n",
    "sns.scatterplot(data=y_df, y='area_pred', x=y_df.index, ax=ax, label='y_pred')\n",
    "plt.xlabel(\"Sorted Index of y_test\")\n",
    "plt.ylabel(\"y\")\n",
    "# plt.xlim(0,20)\n",
    "plt.ylim(0,20)\n",
    "plt.title(\"Test Set\")\n",
    "plt.show()"
   ]
  },
  {
   "cell_type": "markdown",
   "id": "1be182d2",
   "metadata": {},
   "source": [
    "The two visualizations above show the true y values for both the train and test plotted against the fit and predicted values from the trained model. The model performs consistently across the train and test set so it is not overfit. However, the model seems to generalize its predictions as almost all predicted values are between 0 and 5.\n",
    "\n",
    "This is likely a result of the lack of observations with large fire areas.\n",
    "\n",
    "The main recommendation to improve this model would be the collection of more data to obtain more observations with large fire areas. This would hopefully allow the model to learn the patterns in the features that correspond to large fires and allow it to differentiate between the characteristics of small vs large fires."
   ]
  }
 ],
 "metadata": {
  "kernelspec": {
   "display_name": "Python 3 (ipykernel)",
   "language": "python",
   "name": "python3"
  },
  "language_info": {
   "codemirror_mode": {
    "name": "ipython",
    "version": 3
   },
   "file_extension": ".py",
   "mimetype": "text/x-python",
   "name": "python",
   "nbconvert_exporter": "python",
   "pygments_lexer": "ipython3",
   "version": "3.11.5"
  }
 },
 "nbformat": 4,
 "nbformat_minor": 5
}
