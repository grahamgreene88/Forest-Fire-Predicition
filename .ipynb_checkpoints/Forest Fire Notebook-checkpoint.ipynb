{
 "cells": [
  {
   "cell_type": "markdown",
   "id": "03588efe",
   "metadata": {},
   "source": [
    "This notebook contains the code for my forest fire prediction regression project. The entire github repository can be found at https://github.com/grahamgreene88/Forest-Fire-Predicition. "
   ]
  },
  {
   "cell_type": "code",
   "execution_count": 2,
   "id": "6d26966b",
   "metadata": {},
   "outputs": [],
   "source": [
    "import pandas as pd\n",
    "import numpy as np\n",
    "import matplotlib.pyplot as plt\n",
    "import seaborn as sns"
   ]
  },
  {
   "cell_type": "markdown",
   "id": "f780bacf",
   "metadata": {},
   "source": [
    "## Project Objective / Business Relevance"
   ]
  },
  {
   "cell_type": "markdown",
   "id": "2a06d306",
   "metadata": {},
   "source": [
    "The objective of this project is to predict the area of forest firest that occured in Montesinho Natural Park in\n",
    "Portugal. In recent years forest fires have become a large concern worlwide. Specifically here in Canada, the\n",
    "recent forest fire season in the summer of 2023 resulted in large burn areas and unprecended smoky conditions across North America. \n",
    "\n",
    "Predicting the area of forest fires can be very useful for firefighting resource management and to help choose\n",
    "which targets to prioritize with limited resources. This is relevant to future summers here in Canada with forest\n",
    "fire occurences expected to increase in upcoming years due to increasing global temperatures."
   ]
  },
  {
   "cell_type": "markdown",
   "id": "1d4c4948",
   "metadata": {},
   "source": [
    "## Importing Data"
   ]
  },
  {
   "cell_type": "code",
   "execution_count": null,
   "id": "980da390",
   "metadata": {},
   "outputs": [],
   "source": [
    "df = pd.read_csv('forestfires.csv')\n"
   ]
  }
 ],
 "metadata": {
  "kernelspec": {
   "display_name": "Python 3 (ipykernel)",
   "language": "python",
   "name": "python3"
  },
  "language_info": {
   "codemirror_mode": {
    "name": "ipython",
    "version": 3
   },
   "file_extension": ".py",
   "mimetype": "text/x-python",
   "name": "python",
   "nbconvert_exporter": "python",
   "pygments_lexer": "ipython3",
   "version": "3.11.5"
  }
 },
 "nbformat": 4,
 "nbformat_minor": 5
}
